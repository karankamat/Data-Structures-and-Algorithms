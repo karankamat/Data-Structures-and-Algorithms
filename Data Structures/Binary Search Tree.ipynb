{
 "cells": [
  {
   "cell_type": "markdown",
   "id": "f8f73440",
   "metadata": {},
   "source": [
    "## Bianry Search Tree\n",
    "\n",
    "\n",
    "A binary search tree or BST is a binary tree that satisfies the following conditions:\n",
    "\n",
    " - The left subtree of any node only contains nodes with keys less than the node's key.\n",
    " - The right subtree of any node only contains nodes with keys greater than the node's key.\n"
   ]
  },
  {
   "cell_type": "code",
   "execution_count": 29,
   "id": "4c68796d",
   "metadata": {},
   "outputs": [],
   "source": [
    "class TreeNode():\n",
    "    \n",
    "    def __init__(self, key):\n",
    "        self.data = key\n",
    "        self.right, self.left = None, None\n",
    "    \n",
    "    @staticmethod\n",
    "    def tupleToBinaryTree(data):\n",
    "        '''\n",
    "            Takes in a tuple of structure (left_child, root, right_child) and converts it into \n",
    "            Binary Tree.\n",
    "        '''\n",
    "            \n",
    "        if isinstance(data, tuple) and len(data) == 3:\n",
    "            node = TreeNode(data[1])\n",
    "            node.left = TreeNode.tupleToBinaryTree(data[0])\n",
    "            node.right = TreeNode.tupleToBinaryTree(data[2])\n",
    "        #if the node is empty\n",
    "        elif data is None:\n",
    "            node = None\n",
    "        # if node a leaf node\n",
    "        else:\n",
    "            node = TreeNode(data)\n",
    "        return node\n",
    "\n",
    "\n",
    "    def displayTree(self, space='\\t', level=0):\n",
    "        '''\n",
    "            Visual representation of the tree.\n",
    "            '~' represents null node.\n",
    "        '''\n",
    "        # if node is empty\n",
    "        if self is None:\n",
    "            print(space*level + '~')\n",
    "            return\n",
    "\n",
    "        #if the node is a leaf\n",
    "        if self.left is None and self.right is None:\n",
    "            print(space*level + str(self.data))\n",
    "            return\n",
    "    \n",
    "        # if the node has children\n",
    "        TreeNode.displayTree(self.right, space, level+1)\n",
    "        print(space*level, str(self.data))\n",
    "        TreeNode.displayTree(self.left, space, level+1)\n",
    "    \n",
    "    \n",
    "    def inorderTraversal(self):\n",
    "        '''\n",
    "            Inorder display of the tree (left_child->root->right_child)\n",
    "        '''\n",
    "        if self is None:\n",
    "            return []\n",
    "        return (TreeNode.inorderTraversal(self.left) + [self.data] + TreeNode.inorderTraversal(self.right))\n",
    "    \n",
    "    \n",
    "    def preorderTraversal(self):\n",
    "        '''\n",
    "            Preorder display of the tree (root->left_child->right_child)\n",
    "        '''\n",
    "        if self is None:\n",
    "            return []\n",
    "        return ( [self.data] + TreeNode.preorderTraversal(self.left) + TreeNode.preorderTraversal(self.right))\n",
    "    \n",
    "    \n",
    "    def postorderTraversal(self):\n",
    "        '''\n",
    "            Inorder display of the tree (left_child->right_child->root)\n",
    "        '''\n",
    "        if self is None:\n",
    "            return []\n",
    "        return TreeNode.postorderTraversal(self.left) + TreeNode.postorderTraversal(self.right) + [self.data]\n",
    "    \n",
    "    \n",
    "    def heightOfBinaryTree(self):\n",
    "        '''\n",
    "            Height of the tree.\n",
    "        '''\n",
    "        if self is None:\n",
    "            return 0\n",
    "        return 1 + max(TreeNode.heightOfBinaryTree(self.left), TreeNode.heightOfBinaryTree(self.right))\n",
    "    \n",
    "    \n",
    "    def sizeOfBinaryTree(self):\n",
    "        '''\n",
    "            Number of node in the tree.\n",
    "        '''\n",
    "        if self is None:\n",
    "            return 0\n",
    "        return 1 + TreeNode.sizeOfBinaryTree(self.right) + TreeNode.sizeOfBinaryTree(self.left)\n",
    "    \n",
    "    \n",
    "    def binaryTreeToTuple(self):\n",
    "        '''\n",
    "            Convert the binary tree back into a tuple of form (left_child, root, right_child)\n",
    "        '''\n",
    "        # if the node is empty\n",
    "        if self is None:\n",
    "            return None\n",
    "        # if the node is a leaf node\n",
    "        if self.left is None and self.right is None:\n",
    "            return self.data\n",
    "        return (TreeNode.binaryTreeToTuple(self.left), self.data, TreeNode.binaryTreeToTuple(self.right))\n",
    "    \n",
    "    \n",
    "    def towards_rightmost(self):\n",
    "        '''\n",
    "            Returns the smallest data node in the tree.\n",
    "        '''\n",
    "        if self.right and self.right != '~':\n",
    "            return TreeNode.towards_rightmost(self.right)\n",
    "        return self.data\n",
    "\n",
    "    \n",
    "    def towards_leftmost(self):\n",
    "        '''\n",
    "            Returns the largest data node in the tree\n",
    "        '''\n",
    "        if self.left and self.left != '~':\n",
    "            return TreeNode.towards_leftmost(self.left)\n",
    "        return self.data\n",
    "    \n",
    "    \n",
    "    def isBST(self):\n",
    "        '''\n",
    "            Returns True if the tree is a binary search tree.\n",
    "        '''\n",
    "        check_tree = TreeNode.inorderTraversal(self)\n",
    "        return True if check_tree == sorted(check_tree) else False\n",
    "    \n",
    "    \n",
    "    def __repr__(self):\n",
    "        return f\"Binary Tree: {self.binaryTreeToTuple()}\"\n",
    "    \n",
    "\n",
    "    def __str__(self):\n",
    "        return f\"Binary Tree: {self.binaryTreeToTuple()}\""
   ]
  },
  {
   "cell_type": "code",
   "execution_count": 30,
   "id": "982e67b8",
   "metadata": {},
   "outputs": [],
   "source": [
    "btree = TreeNode.tupleToBinaryTree(((1, 15, 35), 40, ((45, 66, 77), 82,(92, 113, 640))))"
   ]
  },
  {
   "cell_type": "code",
   "execution_count": 31,
   "id": "1177cc4b",
   "metadata": {},
   "outputs": [
    {
     "data": {
      "text/plain": [
       "Binary Tree: ((1, 15, 35), 40, ((45, 66, 77), 82, (92, 113, 640)))"
      ]
     },
     "execution_count": 31,
     "metadata": {},
     "output_type": "execute_result"
    }
   ],
   "source": [
    "btree"
   ]
  },
  {
   "cell_type": "code",
   "execution_count": 32,
   "id": "96ca2f9b",
   "metadata": {},
   "outputs": [
    {
     "data": {
      "text/plain": [
       "True"
      ]
     },
     "execution_count": 32,
     "metadata": {},
     "output_type": "execute_result"
    }
   ],
   "source": [
    "btree.isBST()"
   ]
  },
  {
   "cell_type": "code",
   "execution_count": 33,
   "id": "aabab8a3",
   "metadata": {},
   "outputs": [
    {
     "name": "stdout",
     "output_type": "stream",
     "text": [
      "\t\t\t640\n",
      "\t\t 113\n",
      "\t\t\t92\n",
      "\t 82\n",
      "\t\t\t77\n",
      "\t\t 66\n",
      "\t\t\t45\n",
      " 40\n",
      "\t\t35\n",
      "\t 15\n",
      "\t\t1\n"
     ]
    }
   ],
   "source": [
    "btree.displayTree()"
   ]
  },
  {
   "cell_type": "code",
   "execution_count": 34,
   "id": "53f1b4bc",
   "metadata": {},
   "outputs": [
    {
     "data": {
      "text/plain": [
       "1"
      ]
     },
     "execution_count": 34,
     "metadata": {},
     "output_type": "execute_result"
    }
   ],
   "source": [
    "btree.towards_leftmost()"
   ]
  },
  {
   "cell_type": "code",
   "execution_count": 35,
   "id": "7bf3e78b",
   "metadata": {},
   "outputs": [
    {
     "data": {
      "text/plain": [
       "640"
      ]
     },
     "execution_count": 35,
     "metadata": {},
     "output_type": "execute_result"
    }
   ],
   "source": [
    "btree.towards_rightmost()"
   ]
  },
  {
   "cell_type": "code",
   "execution_count": null,
   "id": "427981b9",
   "metadata": {},
   "outputs": [],
   "source": []
  }
 ],
 "metadata": {
  "kernelspec": {
   "display_name": "Python 3 (ipykernel)",
   "language": "python",
   "name": "python3"
  },
  "language_info": {
   "codemirror_mode": {
    "name": "ipython",
    "version": 3
   },
   "file_extension": ".py",
   "mimetype": "text/x-python",
   "name": "python",
   "nbconvert_exporter": "python",
   "pygments_lexer": "ipython3",
   "version": "3.7.1"
  }
 },
 "nbformat": 4,
 "nbformat_minor": 5
}
