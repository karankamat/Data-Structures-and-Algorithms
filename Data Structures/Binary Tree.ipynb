{
 "cells": [
  {
   "cell_type": "markdown",
   "id": "4185c730",
   "metadata": {},
   "source": [
    "## Creating a Structure for a Binary Tree"
   ]
  },
  {
   "cell_type": "code",
   "execution_count": 19,
   "id": "c37ffdf4",
   "metadata": {},
   "outputs": [],
   "source": [
    "# Node class\n",
    "class TreeNode():\n",
    "    def __init__(self, key):\n",
    "        self.data = key\n",
    "        self.right = None\n",
    "        self.left = None"
   ]
  },
  {
   "cell_type": "code",
   "execution_count": 3,
   "id": "685ea9c3",
   "metadata": {},
   "outputs": [],
   "source": [
    "# creating multiple nodes\n",
    "node0 = TreeNode(3)\n",
    "node1 = TreeNode(4)\n",
    "node2 = TreeNode(5)"
   ]
  },
  {
   "cell_type": "code",
   "execution_count": 4,
   "id": "b63b7ba2",
   "metadata": {},
   "outputs": [],
   "source": [
    "# connecting the nodes\n",
    "node0.left = node1\n",
    "node1.right = node2"
   ]
  },
  {
   "cell_type": "code",
   "execution_count": 5,
   "id": "7f09f6a7",
   "metadata": {},
   "outputs": [],
   "source": [
    "# root node\n",
    "root = node0"
   ]
  },
  {
   "cell_type": "markdown",
   "id": "6b612e25",
   "metadata": {},
   "source": [
    "This method becomes tidious when the depth of the tree increases. We can create a helper function that converts a tuple into a binary tree.\n",
    "The structure of the **tuple** will be in-order that is **(left_child, root, right_child)**."
   ]
  },
  {
   "cell_type": "code",
   "execution_count": 7,
   "id": "92b756ee",
   "metadata": {},
   "outputs": [],
   "source": [
    "def tupleToBinaryTree(data):\n",
    "    if isinstance(data, tuple) and len(data) == 3:\n",
    "        node = TreeNode(data[1])\n",
    "        node.left = tupleToBinaryTree(data[0])\n",
    "        node.right = tupleToBinaryTree(data[2])\n",
    "    elif data is None:\n",
    "        node = None\n",
    "    else:\n",
    "        node = TreeNode(data)\n",
    "    return node"
   ]
  },
  {
   "cell_type": "code",
   "execution_count": 27,
   "id": "7e9bb053",
   "metadata": {},
   "outputs": [],
   "source": [
    "# lets implement the above fucntion\n",
    "tree_tuple = ((None, 5, 9), 93, ((23, 1, 43), 32,(2, 13, None)))\n",
    "root = tupleToBinaryTree(tree_tuple)"
   ]
  },
  {
   "cell_type": "markdown",
   "id": "8bff5568",
   "metadata": {},
   "source": [
    "## Visualizing a Binary Tree"
   ]
  },
  {
   "cell_type": "markdown",
   "id": "d0c576e2",
   "metadata": {},
   "source": [
    "Another helper function to visual a tree."
   ]
  },
  {
   "cell_type": "code",
   "execution_count": 17,
   "id": "796947c6",
   "metadata": {},
   "outputs": [],
   "source": [
    "def displayTree(node, space='\\t', level=0):\n",
    "    # if node is empty\n",
    "    if node is None:\n",
    "        print(space*level + '~')\n",
    "        return\n",
    "    \n",
    "    #if the node is a leaf\n",
    "    if node.left is None and node.right is None:\n",
    "        print(space*level + str(node.data))\n",
    "        return\n",
    "    \n",
    "    # if the node has children\n",
    "    displayTree(node.right, space, level+1)\n",
    "    print(space*level, str(node.data))\n",
    "    displayTree(node.left, space, level+1)"
   ]
  },
  {
   "cell_type": "code",
   "execution_count": 49,
   "id": "4622aa2f",
   "metadata": {},
   "outputs": [
    {
     "name": "stdout",
     "output_type": "stream",
     "text": [
      "\t\t\t~\n",
      "\t\t 13\n",
      "\t\t\t2\n",
      "\t 32\n",
      "\t\t\t43\n",
      "\t\t 1\n",
      "\t\t\t23\n",
      " 93\n",
      "\t\t9\n",
      "\t 5\n",
      "\t\t~\n"
     ]
    }
   ],
   "source": [
    "# Visual the tree\n",
    "displayTree(root)"
   ]
  },
  {
   "cell_type": "markdown",
   "id": "5f5db073",
   "metadata": {},
   "source": [
    "## Traversing through a Binary Tree"
   ]
  },
  {
   "cell_type": "markdown",
   "id": "0d7198d5",
   "metadata": {},
   "source": [
    "There are three traversal techniques:\n",
    "- Inorder Traversal\n",
    "- Postorder Traversal\n",
    "- Preorder Traversal"
   ]
  },
  {
   "cell_type": "markdown",
   "id": "a6d0966c",
   "metadata": {},
   "source": [
    "#### Inorder Traversal\n",
    "1. Traverse left subtree recursively.\n",
    "2. Traverse the current node.\n",
    "3. Traverse right subtree recursively."
   ]
  },
  {
   "cell_type": "code",
   "execution_count": 34,
   "id": "0ce95946",
   "metadata": {},
   "outputs": [],
   "source": [
    "def inorderTraversal(node):\n",
    "    if node is None:\n",
    "        return []\n",
    "    return (inorderTraversal(node.left) + [node.data] + inorderTraversal(node.right))"
   ]
  },
  {
   "cell_type": "code",
   "execution_count": 35,
   "id": "58cdcfa9",
   "metadata": {},
   "outputs": [
    {
     "data": {
      "text/plain": [
       "[5, 9, 93, 23, 1, 43, 32, 2, 13]"
      ]
     },
     "execution_count": 35,
     "metadata": {},
     "output_type": "execute_result"
    }
   ],
   "source": [
    "# Inorder\n",
    "inorderTraversal(root)"
   ]
  },
  {
   "cell_type": "markdown",
   "id": "426b638b",
   "metadata": {},
   "source": [
    "#### Preorder Traversal\n",
    "1. Traverse the current node.\n",
    "2. Traverse left subtree recursively.\n",
    "3. Traverse right subtree recursively."
   ]
  },
  {
   "cell_type": "code",
   "execution_count": 36,
   "id": "f378e18d",
   "metadata": {},
   "outputs": [],
   "source": [
    "def preorderTraversal(node):\n",
    "    if node is None:\n",
    "        return []\n",
    "    return ( [node.data] + preorderTraversal(node.left) + preorderTraversal(node.right))"
   ]
  },
  {
   "cell_type": "code",
   "execution_count": 38,
   "id": "9353a629",
   "metadata": {},
   "outputs": [
    {
     "data": {
      "text/plain": [
       "[93, 5, 9, 32, 1, 23, 43, 13, 2]"
      ]
     },
     "execution_count": 38,
     "metadata": {},
     "output_type": "execute_result"
    }
   ],
   "source": [
    "# Preorder\n",
    "preorderTraversal(root)"
   ]
  },
  {
   "cell_type": "markdown",
   "id": "f5661785",
   "metadata": {},
   "source": [
    "#### Postorder Traversal\n",
    "1. Traverse left subtree recursively.\n",
    "2. Traverse right subtree recursively.\n",
    "3. Traverse the current node."
   ]
  },
  {
   "cell_type": "code",
   "execution_count": 39,
   "id": "eb383f78",
   "metadata": {},
   "outputs": [],
   "source": [
    "def postorderTraversal(node):\n",
    "    if node is None:\n",
    "        return []\n",
    "    return postorderTraversal(node.left) + postorderTraversal(node.right) + [node.data]"
   ]
  },
  {
   "cell_type": "code",
   "execution_count": 40,
   "id": "a1f43677",
   "metadata": {},
   "outputs": [
    {
     "data": {
      "text/plain": [
       "[9, 5, 23, 43, 1, 2, 13, 32, 93]"
      ]
     },
     "execution_count": 40,
     "metadata": {},
     "output_type": "execute_result"
    }
   ],
   "source": [
    "# postorder\n",
    "postorderTraversal(root)"
   ]
  },
  {
   "cell_type": "markdown",
   "id": "89817b35",
   "metadata": {},
   "source": [
    "## Height and Size of the Binary Tree"
   ]
  },
  {
   "cell_type": "markdown",
   "id": "d7908c8b",
   "metadata": {},
   "source": [
    "Height of the tree refers to the length of the longest path from the root node to a leaf node."
   ]
  },
  {
   "cell_type": "code",
   "execution_count": 41,
   "id": "d165c615",
   "metadata": {},
   "outputs": [],
   "source": [
    "def heightOfBinaryTree(node):\n",
    "    if node is None:\n",
    "        return 0\n",
    "    return 1 + max(heightOfBinaryTree(node.left), heightOfBinaryTree(node.right))"
   ]
  },
  {
   "cell_type": "code",
   "execution_count": 42,
   "id": "0a717ad0",
   "metadata": {},
   "outputs": [
    {
     "data": {
      "text/plain": [
       "4"
      ]
     },
     "execution_count": 42,
     "metadata": {},
     "output_type": "execute_result"
    }
   ],
   "source": [
    "# height of the tree\n",
    "heightOfBinaryTree(root)"
   ]
  },
  {
   "cell_type": "markdown",
   "id": "7882c596",
   "metadata": {},
   "source": [
    "Size is the total number of nodes in the tree"
   ]
  },
  {
   "cell_type": "code",
   "execution_count": 43,
   "id": "f74bb640",
   "metadata": {},
   "outputs": [],
   "source": [
    "def sizeOfBinaryTree(node):\n",
    "    if node is None:\n",
    "        return 0\n",
    "    return 1 + sizeOfBinaryTree(node.right) + sizeOfBinaryTree(node.left)"
   ]
  },
  {
   "cell_type": "code",
   "execution_count": 44,
   "id": "3dc7667a",
   "metadata": {},
   "outputs": [
    {
     "data": {
      "text/plain": [
       "9"
      ]
     },
     "execution_count": 44,
     "metadata": {},
     "output_type": "execute_result"
    }
   ],
   "source": [
    "sizeOfBinaryTree(root)"
   ]
  },
  {
   "cell_type": "markdown",
   "id": "aaade1b6",
   "metadata": {},
   "source": [
    "Lastly, a helper function to convert the **Binary Tree back into a tuple**."
   ]
  },
  {
   "cell_type": "code",
   "execution_count": 128,
   "id": "628fe0c3",
   "metadata": {},
   "outputs": [],
   "source": [
    "def binaryTreeToTuple(node):\n",
    "    if node is None:\n",
    "        return None\n",
    "    if node.left is None and node.right is None:\n",
    "        return node.data\n",
    "    return (binaryTreeToTuple(node.left), node.data, binaryTreeToTuple(node.right))"
   ]
  },
  {
   "cell_type": "code",
   "execution_count": 129,
   "id": "2540c5b4",
   "metadata": {},
   "outputs": [
    {
     "data": {
      "text/plain": [
       "((None, 5, 9), 93, ((23, 1, 43), 32, (2, 13, None)))"
      ]
     },
     "execution_count": 129,
     "metadata": {},
     "output_type": "execute_result"
    }
   ],
   "source": [
    "binaryTreeToTuple(root)"
   ]
  },
  {
   "cell_type": "markdown",
   "id": "0b5a67b4",
   "metadata": {},
   "source": [
    " "
   ]
  },
  {
   "cell_type": "markdown",
   "id": "85795e50",
   "metadata": {},
   "source": [
    "  "
   ]
  },
  {
   "cell_type": "markdown",
   "id": "a5a4ff36",
   "metadata": {},
   "source": [
    "## Encapsulating the helper functions within the TreeNode class."
   ]
  },
  {
   "cell_type": "code",
   "execution_count": 160,
   "id": "48c9523f",
   "metadata": {},
   "outputs": [],
   "source": [
    "class TreeNode():\n",
    "    \n",
    "    def __init__(self, key):\n",
    "        self.data = key\n",
    "        self.right = None\n",
    "        self.left = None\n",
    "    \n",
    "    @staticmethod\n",
    "    def tupleToBinaryTree(data):\n",
    "        if isinstance(data, tuple) and len(data) == 3:\n",
    "            node = TreeNode(data[1])\n",
    "            node.left = tupleToBinaryTree(data[0])\n",
    "            node.right = tupleToBinaryTree(data[2])\n",
    "        #if the node is empty\n",
    "        elif data is None:\n",
    "            node = None\n",
    "        # if node a leaf node\n",
    "        else:\n",
    "            node = TreeNode(data)\n",
    "        return node\n",
    "\n",
    "\n",
    "    def displayTree(self, space='\\t', level=0):\n",
    "        # if node is empty\n",
    "        if self is None:\n",
    "            print(space*level + '~')\n",
    "            return\n",
    "\n",
    "        #if the node is a leaf\n",
    "        if self.left is None and self.right is None:\n",
    "            print(space*level + str(self.data))\n",
    "            return\n",
    "    \n",
    "        # if the node has children\n",
    "        displayTree(self.right, space, level+1)\n",
    "        print(space*level, str(self.data))\n",
    "        displayTree(self.left, space, level+1)\n",
    "    \n",
    "    \n",
    "    def inorderTraversal(self):\n",
    "        if self is None:\n",
    "            return []\n",
    "        return (inorderTraversal(self.left) + [self.data] + inorderTraversal(self.right))\n",
    "    \n",
    "    \n",
    "    def preorderTraversal(self):\n",
    "        if self is None:\n",
    "            return []\n",
    "        return ( [self.data] + preorderTraversal(self.left) + preorderTraversal(self.right))\n",
    "    \n",
    "    \n",
    "    def postorderTraversal(self):\n",
    "        if self is None:\n",
    "            return []\n",
    "        return postorderTraversal(self.left) + postorderTraversal(self.right) + [self.data]\n",
    "    \n",
    "    \n",
    "    def heightOfBinaryTree(self):\n",
    "        if self is None:\n",
    "            return 0\n",
    "        return 1 + max(heightOfBinaryTree(self.left), heightOfBinaryTree(self.right))\n",
    "    \n",
    "    \n",
    "    def sizeOfBinaryTree(self):\n",
    "        if self is None:\n",
    "            return 0\n",
    "        return 1 + sizeOfBinaryTree(self.right) + sizeOfBinaryTree(self.left)\n",
    "    \n",
    "    \n",
    "    def binaryTreeToTuple(self):\n",
    "        # if the node is empty\n",
    "        if self is None:\n",
    "            return None\n",
    "        # if the node is a leaf node\n",
    "        if self.left is None and self.right is None:\n",
    "            return node.data\n",
    "        return (binaryTreeToTuple(self.left), self.data, binaryTreeToTuple(self.right))\n",
    "    \n",
    "    \n",
    "    def __repr__(self):\n",
    "        return f\"Binary Tree: {self.binaryTreeToTuple()}\"\n",
    "    \n",
    "\n",
    "    def __str__(self):\n",
    "        return f\"Binary Tree: {self.binaryTreeToTuple()}\""
   ]
  },
  {
   "cell_type": "code",
   "execution_count": null,
   "id": "34c4b540",
   "metadata": {},
   "outputs": [],
   "source": []
  }
 ],
 "metadata": {
  "kernelspec": {
   "display_name": "Python 3 (ipykernel)",
   "language": "python",
   "name": "python3"
  },
  "language_info": {
   "codemirror_mode": {
    "name": "ipython",
    "version": 3
   },
   "file_extension": ".py",
   "mimetype": "text/x-python",
   "name": "python",
   "nbconvert_exporter": "python",
   "pygments_lexer": "ipython3",
   "version": "3.9.12"
  }
 },
 "nbformat": 4,
 "nbformat_minor": 5
}
