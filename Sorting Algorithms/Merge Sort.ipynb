{
 "cells": [
  {
   "cell_type": "markdown",
   "id": "a3dd26c2",
   "metadata": {},
   "source": [
    "## Merge Sort"
   ]
  },
  {
   "cell_type": "markdown",
   "id": "f39dc568",
   "metadata": {},
   "source": [
    "- Divide and conquer algorithm\n",
    "- Running time: O(n * log(n))"
   ]
  },
  {
   "cell_type": "markdown",
   "id": "95506eed",
   "metadata": {},
   "source": [
    "* Principle\n",
    "    - split array in half.\n",
    "    - call merge sort on each half to sort them recursively.\n",
    "    - merge both sorted halves into one single array."
   ]
  },
  {
   "cell_type": "code",
   "execution_count": 6,
   "id": "9d0ab7bd",
   "metadata": {},
   "outputs": [],
   "source": [
    "array = [72, 16, 5, 47, 21 ,34 ,13]"
   ]
  },
  {
   "cell_type": "code",
   "execution_count": 2,
   "id": "25652585",
   "metadata": {},
   "outputs": [],
   "source": [
    "#function for Merge Sort\n",
    "def mergeSort(ar):\n",
    "    mid = len(ar)//2\n",
    "    if len(ar) > 1:\n",
    "        pre_mid = ar[:mid]\n",
    "        post_mid = ar[mid:]\n",
    "        \n",
    "        #recursion\n",
    "        mergeSort(post_mid)\n",
    "        mergeSort(pre_mid)\n",
    "        \n",
    "        #merge\n",
    "        i = 0 #index for post_mid array\n",
    "        j = 0 #index for pre_mid array\n",
    "        k = 0 #index for sorted array\n",
    "        \n",
    "        while i < len(post_mid) and j < len(pre_mid):\n",
    "            if post_mid[i] < pre_mid[j]:\n",
    "                ar[k] = post_mid[i]\n",
    "                i += 1\n",
    "            else:\n",
    "                ar[k] = pre_mid[j]\n",
    "                j += 1\n",
    "            k += 1\n",
    "        \n",
    "        # suppose there are elements left in the post_mid array\n",
    "        while i < len(post_mid):\n",
    "            ar[k] = post_mid[i]\n",
    "            i += 1\n",
    "            k += 1\n",
    "            \n",
    "        # suppose there are elements left in the pre_mid array\n",
    "        while j < len(pre_mid):\n",
    "            ar[k] = pre_mid[j]\n",
    "            j += 1\n",
    "            k += 1\n",
    "        "
   ]
  },
  {
   "cell_type": "code",
   "execution_count": 7,
   "id": "9377ee36",
   "metadata": {},
   "outputs": [
    {
     "name": "stdout",
     "output_type": "stream",
     "text": [
      "Array before sorting:  [72, 16, 5, 47, 21, 34, 13]\n",
      "Array after sorting:  [5, 13, 16, 21, 34, 47, 72]\n"
     ]
    }
   ],
   "source": [
    "print(\"Array before sorting: \", array)\n",
    "mergeSort(array)\n",
    "print(\"Array after sorting: \", array)"
   ]
  },
  {
   "cell_type": "code",
   "execution_count": null,
   "id": "291f2076",
   "metadata": {},
   "outputs": [],
   "source": []
  }
 ],
 "metadata": {
  "kernelspec": {
   "display_name": "Python 3 (ipykernel)",
   "language": "python",
   "name": "python3"
  },
  "language_info": {
   "codemirror_mode": {
    "name": "ipython",
    "version": 3
   },
   "file_extension": ".py",
   "mimetype": "text/x-python",
   "name": "python",
   "nbconvert_exporter": "python",
   "pygments_lexer": "ipython3",
   "version": "3.9.12"
  }
 },
 "nbformat": 4,
 "nbformat_minor": 5
}
