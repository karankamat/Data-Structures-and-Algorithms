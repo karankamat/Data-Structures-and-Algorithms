{
 "cells": [
  {
   "cell_type": "markdown",
   "id": "9abad6f5",
   "metadata": {},
   "source": [
    "## Selection Sort"
   ]
  },
  {
   "cell_type": "markdown",
   "id": "77a080a5",
   "metadata": {},
   "source": [
    " - Simple sorting Algorithm.\n",
    " - Simple implementation.\n",
    " - Time Complexity: O(n**2)"
   ]
  },
  {
   "cell_type": "code",
   "execution_count": 1,
   "id": "a90c7807",
   "metadata": {},
   "outputs": [],
   "source": [
    "# unsorted array\n",
    "ar = [2, 6, 3, 5, 4, 1]"
   ]
  },
  {
   "cell_type": "code",
   "execution_count": 5,
   "id": "55504781",
   "metadata": {},
   "outputs": [],
   "source": [
    "# funciton for selection sort\n",
    "def selectionSort(ar):\n",
    "    for i in range(len(ar) - 1):\n",
    "        cur_min = i\n",
    "        j = i + 1\n",
    "        while j<len(ar):\n",
    "            if ar[j] < ar[cur_min]:\n",
    "                cur_min = j\n",
    "            j += 1\n",
    "        if i != cur_min:\n",
    "            ar[i], ar[cur_min] = ar[cur_min], ar[i]\n",
    "            "
   ]
  },
  {
   "cell_type": "code",
   "execution_count": 6,
   "id": "173a86bf",
   "metadata": {},
   "outputs": [
    {
     "name": "stdout",
     "output_type": "stream",
     "text": [
      "Array before sorting:  [1, 2, 3, 4, 5, 6]\n",
      "Array after sorting:  [1, 2, 3, 4, 5, 6]\n"
     ]
    }
   ],
   "source": [
    "print(\"Array before sorting: \", ar)\n",
    "selectionSort(ar)\n",
    "print(\"Array after sorting: \", ar)"
   ]
  },
  {
   "cell_type": "code",
   "execution_count": null,
   "id": "304c73a7",
   "metadata": {},
   "outputs": [],
   "source": []
  },
  {
   "cell_type": "code",
   "execution_count": null,
   "id": "b8e68c69",
   "metadata": {},
   "outputs": [],
   "source": []
  }
 ],
 "metadata": {
  "kernelspec": {
   "display_name": "Python 3 (ipykernel)",
   "language": "python",
   "name": "python3"
  },
  "language_info": {
   "codemirror_mode": {
    "name": "ipython",
    "version": 3
   },
   "file_extension": ".py",
   "mimetype": "text/x-python",
   "name": "python",
   "nbconvert_exporter": "python",
   "pygments_lexer": "ipython3",
   "version": "3.9.12"
  }
 },
 "nbformat": 4,
 "nbformat_minor": 5
}
