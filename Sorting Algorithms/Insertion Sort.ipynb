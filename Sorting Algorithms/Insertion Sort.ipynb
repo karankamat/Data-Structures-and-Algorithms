{
 "cells": [
  {
   "cell_type": "markdown",
   "id": "2c1b419f",
   "metadata": {},
   "source": [
    "## Insertion Sort"
   ]
  },
  {
   "cell_type": "markdown",
   "id": "9daf4b4d",
   "metadata": {},
   "source": [
    " - Simple sorting Algorithm.\n",
    " - Simple implementation.\n",
    " - Time Complexity: O(n**2)"
   ]
  },
  {
   "cell_type": "markdown",
   "id": "c14d4e10",
   "metadata": {},
   "source": [
    "- Principle\n",
    "    - Let the 0th element of the array be in the sorted part.\n",
    "    - Hop the remaining elements into the sorted part sequentially.\n",
    "    - Swap the element(smaller) with its previous element(bigger).\n",
    "    - Repeat until all the elements are in the sorted part."
   ]
  },
  {
   "cell_type": "code",
   "execution_count": 11,
   "id": "c08eed48",
   "metadata": {},
   "outputs": [],
   "source": [
    "# unsorted array\n",
    "ar = [2, 6, 3, 5, 4, 1]"
   ]
  },
  {
   "cell_type": "code",
   "execution_count": 9,
   "id": "6f416cd0",
   "metadata": {},
   "outputs": [],
   "source": [
    "# function for insertion sort\n",
    "def insertSort(ar):\n",
    "    for i in range(1, len(ar)):\n",
    "        j = i\n",
    "        while ar[j - 1] > ar[j] and j > 0:\n",
    "            ar[j - 1], ar[j] = ar[j], ar[j - 1] \n",
    "            j -= 1"
   ]
  },
  {
   "cell_type": "code",
   "execution_count": 12,
   "id": "fb43ac50",
   "metadata": {},
   "outputs": [
    {
     "name": "stdout",
     "output_type": "stream",
     "text": [
      "Array before sorting:  [2, 6, 3, 5, 4, 1]\n",
      "Array after sorting:  [1, 2, 3, 4, 5, 6]\n"
     ]
    }
   ],
   "source": [
    "print(\"Array before sorting: \", ar)\n",
    "insertSort(ar)\n",
    "print(\"Array after sorting: \", ar)"
   ]
  },
  {
   "cell_type": "code",
   "execution_count": null,
   "id": "d9de3829",
   "metadata": {},
   "outputs": [],
   "source": []
  }
 ],
 "metadata": {
  "kernelspec": {
   "display_name": "Python 3 (ipykernel)",
   "language": "python",
   "name": "python3"
  },
  "language_info": {
   "codemirror_mode": {
    "name": "ipython",
    "version": 3
   },
   "file_extension": ".py",
   "mimetype": "text/x-python",
   "name": "python",
   "nbconvert_exporter": "python",
   "pygments_lexer": "ipython3",
   "version": "3.9.12"
  }
 },
 "nbformat": 4,
 "nbformat_minor": 5
}
