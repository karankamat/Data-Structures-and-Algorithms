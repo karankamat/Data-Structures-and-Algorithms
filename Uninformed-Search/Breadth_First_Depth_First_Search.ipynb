{
 "cells": [
  {
   "cell_type": "code",
   "execution_count": 17,
   "id": "0e0270f1",
   "metadata": {},
   "outputs": [
    {
     "name": "stdout",
     "output_type": "stream",
     "text": [
      "Breadth First Search: ['A', 'B', 'C', 'D', 'E', 'F', 'G', 'W', 'S', 'P', 'Z']\n",
      "Depth First Search: ['A', 'C', 'G', 'F', 'W', 'Z', 'B', 'E', 'P', 'S', 'D']\n"
     ]
    }
   ],
   "source": [
    "def bfs(graph, start):\n",
    "    visited = set()\n",
    "    visited_order = []\n",
    "    queue = [start]\n",
    "\n",
    "    while queue:\n",
    "        node = queue.pop(0)\n",
    "        if node not in visited:\n",
    "            visited.add(node)\n",
    "            visited_order.append(node)\n",
    "            queue.extend(graph[node])\n",
    "\n",
    "    return visited_order\n",
    "\n",
    "def dfs(graph, start):\n",
    "    visited = set()\n",
    "    visited_order = []\n",
    "    stack = [start]\n",
    "    \n",
    "    while stack:\n",
    "        node = stack.pop(-1)\n",
    "        if node not in visited:\n",
    "            visited.add(node)\n",
    "            visited_order.append(node)\n",
    "            stack.extend(graph[node])\n",
    "            \n",
    "    return visited_order\n",
    "\n",
    "if __name__ == \"__main__\":\n",
    "    graph = {\n",
    "        \"A\": [\"B\", \"C\"],\n",
    "        \"B\": [\"D\", \"E\"],\n",
    "        \"C\": [\"F\", \"G\"],\n",
    "        \"D\": [\"W\"],\n",
    "        \"E\": [\"S\", \"P\"],\n",
    "        \"F\": [\"Z\", \"W\"],\n",
    "        \"G\": [],\n",
    "        \"W\": [],\n",
    "        \"S\": [],\n",
    "        \"P\": [],\n",
    "        \"Z\": [],\n",
    "    }\n",
    "\n",
    "    print(f\"Breadth First Search:\", bfs(graph, \"A\"))\n",
    "    print(f\"Depth First Search:\", dfs(graph, \"A\"))\n",
    "    \n"
   ]
  },
  {
   "cell_type": "code",
   "execution_count": null,
   "id": "a70f63a6",
   "metadata": {},
   "outputs": [],
   "source": []
  },
  {
   "cell_type": "code",
   "execution_count": null,
   "id": "038e209b",
   "metadata": {},
   "outputs": [],
   "source": []
  },
  {
   "cell_type": "code",
   "execution_count": null,
   "id": "d0f4da8b",
   "metadata": {},
   "outputs": [],
   "source": []
  }
 ],
 "metadata": {
  "kernelspec": {
   "display_name": "Python 3 (ipykernel)",
   "language": "python",
   "name": "python3"
  },
  "language_info": {
   "codemirror_mode": {
    "name": "ipython",
    "version": 3
   },
   "file_extension": ".py",
   "mimetype": "text/x-python",
   "name": "python",
   "nbconvert_exporter": "python",
   "pygments_lexer": "ipython3",
   "version": "3.9.12"
  }
 },
 "nbformat": 4,
 "nbformat_minor": 5
}
